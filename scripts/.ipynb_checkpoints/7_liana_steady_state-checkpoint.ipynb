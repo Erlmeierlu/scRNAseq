{
 "cells": [
  {
   "cell_type": "code",
   "execution_count": null,
   "id": "8a24435b",
   "metadata": {},
   "outputs": [],
   "source": [
    "#import sys\n",
    "#!{sys.executable} -m pip install cylp"
   ]
  },
  {
   "cell_type": "code",
   "execution_count": 1,
   "id": "47bf528d",
   "metadata": {},
   "outputs": [],
   "source": [
    "import scanpy as sc\n",
    "import liana as li\n",
    "import numpy as np\n",
    "import pandas as pd\n",
    "import plotnine as p9\n",
    "\n",
    "from liana.method import singlecellsignalr, connectome, cellphonedb, natmi, logfc, cellchat, geometric_mean, rank_aggregate\n",
    "from plotnine import ggplot, geom_point, geom_tile, aes, facet_wrap, facet_grid, labs, theme_bw, theme, element_text, element_rect, scale_size_continuous, scale_fill_gradient, scale_color_cmap\n"
   ]
  },
  {
   "cell_type": "code",
   "execution_count": 2,
   "id": "6a452890",
   "metadata": {},
   "outputs": [
    {
     "name": "stderr",
     "output_type": "stream",
     "text": [
      "... storing 'orig.ident' as categorical\n",
      "... storing 'hash' as categorical\n",
      "... storing 'aggr' as categorical\n",
      "... storing 'cd4cd8' as categorical\n",
      "... storing 'cd45x' as categorical\n",
      "... storing 'gdcd4' as categorical\n",
      "... storing 'sample' as categorical\n",
      "... storing 'Phase' as categorical\n",
      "... storing 'old.ident' as categorical\n",
      "... storing 'organ' as categorical\n",
      "... storing 'batch' as categorical\n",
      "... storing 'treatment' as categorical\n",
      "... storing 'treatment.agg' as categorical\n",
      "... storing 'hashid' as categorical\n",
      "... storing 'hashid.agg' as categorical\n",
      "... storing 'sex' as categorical\n",
      "... storing 'sample_treat' as categorical\n",
      "... storing 'sample_treat.agg' as categorical\n",
      "... storing 'experiment' as categorical\n",
      "... storing 'Cluster' as categorical\n",
      "... storing 'gdcd8' as categorical\n",
      "... storing 'immgen_label.fine' as categorical\n",
      "... storing 'immgen_label.main' as categorical\n",
      "... storing 'old_label.fine' as categorical\n",
      "... storing 'struc_label.fine' as categorical\n",
      "... storing 'celltype_raw' as categorical\n",
      "... storing 'celltype' as categorical\n",
      "... storing 'ct_cluster' as categorical\n",
      "... storing 'th_raw_label.fine' as categorical\n",
      "... storing 'th_rest_label.fine' as categorical\n",
      "... storing 'b_data_label.fine' as categorical\n",
      "... storing 'raw_celltype' as categorical\n",
      "... storing 'human_symbol' as categorical\n"
     ]
    }
   ],
   "source": [
    "adata = sc.read_h5ad('../data/3_full_anndata.h5ad')\n",
    "adata.strings_to_categoricals()\n",
    "adata.obs['treatment.agg'] = adata.obs['treatment.agg'].cat.reorder_categories(['NoT', 'HDAC_WT', 'HDAC_cKO', 'Undefined'])"
   ]
  },
  {
   "cell_type": "code",
   "execution_count": 3,
   "id": "c730ce04",
   "metadata": {},
   "outputs": [],
   "source": [
    "levels = adata.obs['treatment.agg'].copy().sort_values().unique()\n",
    "levels = levels[levels!='Undefined'].remove_unused_categories()\n",
    "organ = adata.obs['organ'].copy().unique()\n",
    "experiment = adata.obs['experiment'].copy().unique()"
   ]
  },
  {
   "cell_type": "code",
   "execution_count": 4,
   "id": "d39c2b07",
   "metadata": {},
   "outputs": [],
   "source": [
    "def analyse_conditions(obj, cond, org, exp):\n",
    "    subset = obj[(obj.obs['treatment.agg'] == cond) & (obj.obs['organ'] == org) & (obj.obs['experiment'] == exp)].copy()\n",
    "    df = rank_aggregate(subset, groupby='celltype', expr_prop=0.1, resource_name='mouseconsensus', use_raw=False, key_added = '', verbose = True, inplace = False)\n",
    "    return(df)"
   ]
  },
  {
   "cell_type": "code",
   "execution_count": null,
   "id": "0223669f",
   "metadata": {
    "scrolled": false
   },
   "outputs": [
    {
     "name": "stderr",
     "output_type": "stream",
     "text": [
      "Using `.X`!\n",
      "/home/people/lerlmeier/Apps/pyenv/lib/python3.11/site-packages/anndata/_core/anndata.py:430: FutureWarning: The dtype argument is deprecated and will be removed in late 2024.\n",
      "15730 features of mat are empty, they will be removed.\n",
      "/home/people/lerlmeier/Apps/pyenv/lib/python3.11/site-packages/liana/method/_pipe_utils/_pre.py:148: ImplicitModificationWarning: Trying to modify attribute `.obs` of view, initializing view as actual.\n",
      "/home/people/lerlmeier/Apps/pyenv/lib/python3.11/site-packages/liana/method/_pipe_utils/_pre.py:151: FutureWarning: The default of observed=False is deprecated and will be changed to True in a future version of pandas. Pass observed=False to retain current behavior or observed=True to adopt the future default and silence this warning.\n",
      "The following cell identities were excluded: T_gd_4, Undefined_M\n",
      "Using resource `mouseconsensus`.\n",
      "0.40 of entities in the resource are missing from the data.\n"
     ]
    },
    {
     "name": "stdout",
     "output_type": "stream",
     "text": [
      "Generating ligand-receptor stats for 1491 samples and 16555 features\n",
      "Assuming that counts were `natural` log-normalized!\n"
     ]
    },
    {
     "name": "stderr",
     "output_type": "stream",
     "text": [
      "/home/people/lerlmeier/Apps/pyenv/lib/python3.11/site-packages/liana/method/sc/_liana_pipe.py:251: ImplicitModificationWarning: Setting element `.layers['scaled']` of view, initializing view as actual.\n"
     ]
    },
    {
     "name": "stdout",
     "output_type": "stream",
     "text": [
      "Running CellPhoneDB\n"
     ]
    },
    {
     "name": "stderr",
     "output_type": "stream",
     "text": [
      "100%|██████████████████████████████████████| 1000/1000 [00:07<00:00, 126.31it/s]\n"
     ]
    },
    {
     "name": "stdout",
     "output_type": "stream",
     "text": [
      "Running Connectome\n",
      "Running log2FC\n",
      "Running NATMI\n",
      "Running SingleCellSignalR\n",
      "Running CellChat\n"
     ]
    },
    {
     "name": "stderr",
     "output_type": "stream",
     "text": [
      "100%|███████████████████████████████████████| 1000/1000 [00:28<00:00, 34.55it/s]\n",
      "Using `.X`!\n",
      "/home/people/lerlmeier/Apps/pyenv/lib/python3.11/site-packages/anndata/_core/anndata.py:430: FutureWarning: The dtype argument is deprecated and will be removed in late 2024.\n",
      "11885 features of mat are empty, they will be removed.\n",
      "/home/people/lerlmeier/Apps/pyenv/lib/python3.11/site-packages/liana/method/_pipe_utils/_pre.py:148: ImplicitModificationWarning: Trying to modify attribute `.obs` of view, initializing view as actual.\n",
      "/home/people/lerlmeier/Apps/pyenv/lib/python3.11/site-packages/liana/method/_pipe_utils/_pre.py:151: FutureWarning: The default of observed=False is deprecated and will be changed to True in a future version of pandas. Pass observed=False to retain current behavior or observed=True to adopt the future default and silence this warning.\n",
      "The following cell identities were excluded: Endothelial_cells, Fibroblasts_1, Fibroblasts_2, Fibroblasts_5, Keratinocytes_1, Keratinocytes_2, Keratinocytes_5, Keratinocytes_7, Keratinocytes_8, Melanocytes\n",
      "Using resource `mouseconsensus`.\n",
      "0.21 of entities in the resource are missing from the data.\n"
     ]
    },
    {
     "name": "stdout",
     "output_type": "stream",
     "text": [
      "Generating ligand-receptor stats for 10321 samples and 20400 features\n"
     ]
    },
    {
     "name": "stderr",
     "output_type": "stream",
     "text": [
      "/home/people/lerlmeier/Apps/pyenv/lib/python3.11/site-packages/liana/method/sc/_liana_pipe.py:251: ImplicitModificationWarning: Setting element `.layers['scaled']` of view, initializing view as actual.\n"
     ]
    },
    {
     "name": "stdout",
     "output_type": "stream",
     "text": [
      "Assuming that counts were `natural` log-normalized!\n",
      "Running CellPhoneDB\n"
     ]
    },
    {
     "name": "stderr",
     "output_type": "stream",
     "text": [
      "100%|███████████████████████████████████████| 1000/1000 [00:16<00:00, 60.25it/s]\n"
     ]
    },
    {
     "name": "stdout",
     "output_type": "stream",
     "text": [
      "Running Connectome\n",
      "Running log2FC\n",
      "Running NATMI\n"
     ]
    }
   ],
   "source": [
    "res={f'{i}-{j}-{m}':analyse_conditions(adata, i, j, m) for i in levels for j in organ for m in experiment}\n",
    "\n",
    "res = pd.concat(res.values(), keys = res.keys())\n",
    "res = res.reset_index(level=0)\n",
    "\n",
    "res = res.rename({'level_0':'analysis'}, axis=1)\n",
    "\n",
    "res[['treatment', 'organ', 'experiment']] = res['analysis'].str.split('-', expand = True)\n",
    "\n",
    "adata.uns['consensus_res'] = res"
   ]
  },
  {
   "cell_type": "code",
   "execution_count": null,
   "id": "743fe0ae",
   "metadata": {},
   "outputs": [],
   "source": [
    "adata.uns['consensus_res']['organ'] = pd.Categorical(adata.uns['consensus_res'].organ)\n",
    "adata.uns['consensus_res']['experiment'] = pd.Categorical(adata.uns['consensus_res'].experiment)\n",
    "adata.uns['consensus_res']['treatment'] = pd.Categorical(adata.uns['consensus_res'].treatment)\n",
    "adata.uns['consensus_res']['treatment'] = adata.uns['consensus_res']['treatment'].cat.reorder_categories(['NoT', 'HDAC_WT', 'HDAC_cKO'])"
   ]
  },
  {
   "cell_type": "code",
   "execution_count": null,
   "id": "80f651dd",
   "metadata": {},
   "outputs": [],
   "source": [
    "adata.write_h5ad(filename='../data/3_full_anndata.h5ad')"
   ]
  },
  {
   "cell_type": "code",
   "execution_count": null,
   "id": "2bcd9191",
   "metadata": {},
   "outputs": [],
   "source": [
    "adata = sc.read_h5ad(filename='../data/3_full_anndata.h5ad')"
   ]
  },
  {
   "cell_type": "code",
   "execution_count": null,
   "id": "21db786b",
   "metadata": {},
   "outputs": [],
   "source": [
    "n_inter=adata.uns['consensus_res'].query('specificity_rank<0.05').groupby(['source', 'target', 'treatment', 'organ', 'experiment'], as_index=False, observed=True)['ligand_complex'].agg(count='count')"
   ]
  },
  {
   "cell_type": "code",
   "execution_count": null,
   "id": "f7400f83",
   "metadata": {},
   "outputs": [],
   "source": [
    "n_inter"
   ]
  },
  {
   "cell_type": "code",
   "execution_count": null,
   "id": "40c1e77d",
   "metadata": {},
   "outputs": [],
   "source": [
    "p=(ggplot(n_inter)+\n",
    "   geom_tile(aes('source','target', fill='count'))+\n",
    "   facet_grid('experiment+organ~treatment', scales = 'free', space = 'free')+\n",
    "   scale_fill_gradient(low = '#fee0d2', high = '#de2d26')+\n",
    "   theme_bw()+\n",
    "   theme(axis_text_x=element_text(rotation = 90)))\n",
    "\n",
    "p.save('../plots/consensus_n_interactions.pdf', width=15, height = 20)"
   ]
  },
  {
   "cell_type": "code",
   "execution_count": null,
   "id": "81a579bf",
   "metadata": {},
   "outputs": [],
   "source": [
    "a = adata.uns['consensus_res']\n",
    "a['interaction'] = a['ligand_complex'] + ' -> ' + a['receptor_complex']\n",
    "a = a.loc[a['cellphone_pvals'] <= 0.05]\n",
    "a['-log10(p_vals)'] = -np.log10(a['cellphone_pvals'] + np.finfo(float).eps)\n",
    "\n",
    "\n",
    "p = (ggplot(a.head(20), aes(x='target', y='interaction', colour='lr_means', size='-log10(p_vals)')) \n",
    "    + geom_point()\n",
    "    + facet_grid('analysis~source')\n",
    "     #+ scale_size_continuous(range=size_range)\n",
    "     #+ scale_color_cmap(cmap)\n",
    "     #+ labs(color=str.capitalize(colour),\n",
    "     #       size=str.capitalize(size),\n",
    "     #       y=\"Interactions (Ligand -> Receptor)\",\n",
    "     #       x=\"Target\",\n",
    "     #       title=\"Source\")\n",
    "     + theme_bw()\n",
    "     + theme(legend_text=element_text(size=14),\n",
    "             strip_background=element_rect(fill=\"white\"),\n",
    "             strip_text=element_text(size=15, colour=\"black\"),\n",
    "             axis_text_y=element_text(size=10, colour=\"black\"),\n",
    "             axis_title_y=element_text(colour=\"#808080\", face=\"bold\", size=15),\n",
    "             axis_text_x=element_text(size=11, face=\"bold\", angle=90),\n",
    "             #figure_size=figure_size,\n",
    "             plot_title=element_text(vjust=0, hjust=0.5, face=\"bold\",\n",
    "                                     colour=\"#808080\", size=15)\n",
    "             )\n",
    "     )\n",
    "p\n"
   ]
  },
  {
   "cell_type": "code",
   "execution_count": null,
   "id": "f47f839a",
   "metadata": {},
   "outputs": [],
   "source": []
  }
 ],
 "metadata": {
  "kernelspec": {
   "display_name": "myenv",
   "language": "python",
   "name": "myenv"
  },
  "language_info": {
   "codemirror_mode": {
    "name": "ipython",
    "version": 3
   },
   "file_extension": ".py",
   "mimetype": "text/x-python",
   "name": "python",
   "nbconvert_exporter": "python",
   "pygments_lexer": "ipython3",
   "version": "3.11.2"
  }
 },
 "nbformat": 4,
 "nbformat_minor": 5
}
