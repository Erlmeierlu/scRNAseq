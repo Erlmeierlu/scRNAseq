{
 "cells": [
  {
   "cell_type": "code",
   "execution_count": null,
   "id": "dd62a59e",
   "metadata": {},
   "outputs": [],
   "source": [
    "#import sys\n",
    "#!{sys.executable} -m pip install celltypist"
   ]
  },
  {
   "cell_type": "code",
   "execution_count": 1,
   "id": "67c379e6",
   "metadata": {},
   "outputs": [],
   "source": [
    "import scanpy as sc\n",
    "import pandas as pd"
   ]
  },
  {
   "cell_type": "code",
   "execution_count": 2,
   "id": "67357847",
   "metadata": {},
   "outputs": [],
   "source": [
    "import celltypist\n",
    "from celltypist import models"
   ]
  },
  {
   "cell_type": "code",
   "execution_count": 3,
   "id": "ac678c9c",
   "metadata": {},
   "outputs": [
    {
     "name": "stderr",
     "output_type": "stream",
     "text": [
      "📜 Retrieving model list from server https://celltypist.cog.sanger.ac.uk/models/models.json\n",
      "📚 Total models in list: 46\n",
      "📂 Storing models in /home/people/lerlmeier/.celltypist/data/models\n",
      "💾 Total models to download: 2\n",
      "💾 Downloading model [1/2]: Immune_All_Low.pkl\n",
      "💾 Downloading model [2/2]: Immune_All_High.pkl\n"
     ]
    }
   ],
   "source": [
    "models.download_models(force_update = True, model=['Immune_All_Low.pkl', 'Immune_All_High.pkl'])\n",
    "model = models.Model.load()"
   ]
  },
  {
   "cell_type": "code",
   "execution_count": 4,
   "id": "d8f3f356",
   "metadata": {},
   "outputs": [],
   "source": [
    "m_adata = sc.read_h5ad('../data/0_m_anndata.h5ad')\n",
    "t_adata = sc.read_h5ad('../data/0_t_anndata.h5ad')\n",
    "b_adata = sc.read_h5ad('../data/0_b_anndata.h5ad')"
   ]
  },
  {
   "cell_type": "code",
   "execution_count": 5,
   "id": "9fe6a218",
   "metadata": {},
   "outputs": [],
   "source": [
    "def predict_ct(data, prefix, model = model, majority_voting = False, mode = 'best match'):\n",
    "    data.obsm['X_umap'] = data.obsm['X_UMAP']\n",
    "    data.obsm['X_pca'] = data.obsm['X_PCA']\n",
    "    data.var_names = data.var['human_symbol']\n",
    "    predictions = celltypist.annotate(data, model = model, majority_voting = majority_voting, mode = mode)\n",
    "    pdata = predictions.to_adata()\n",
    "    out = pdata.obs\n",
    "    out.to_csv(f'../tables/{prefix}_res_celltypist.csv')"
   ]
  },
  {
   "cell_type": "code",
   "execution_count": 6,
   "id": "20eb4bff",
   "metadata": {},
   "outputs": [],
   "source": [
    "dic = {'myeloid': m_adata, 'lymphoid': t_adata, 'b': b_adata}"
   ]
  },
  {
   "cell_type": "code",
   "execution_count": 7,
   "id": "ee2c3a03",
   "metadata": {},
   "outputs": [
    {
     "name": "stderr",
     "output_type": "stream",
     "text": [
      "🔬 Input data has 19691 cells and 32285 genes\n",
      "🔗 Matching reference genes in the model\n",
      "🧬 5122 features used for prediction\n",
      "⚖️ Scaling input data\n",
      "🖋️ Predicting labels\n",
      "✅ Prediction done!\n",
      "🔬 Input data has 20448 cells and 32285 genes\n",
      "🔗 Matching reference genes in the model\n",
      "🧬 5122 features used for prediction\n",
      "⚖️ Scaling input data\n",
      "🖋️ Predicting labels\n",
      "✅ Prediction done!\n"
     ]
    },
    {
     "data": {
      "text/plain": [
       "[None, None]"
      ]
     },
     "execution_count": 7,
     "metadata": {},
     "output_type": "execute_result"
    }
   ],
   "source": [
    "[predict_ct(data = value, prefix = key) for (key,value) in dic.items()]"
   ]
  },
  {
   "cell_type": "code",
   "execution_count": null,
   "id": "2ab2322d",
   "metadata": {},
   "outputs": [],
   "source": []
  }
 ],
 "metadata": {
  "kernelspec": {
   "display_name": "myenv",
   "language": "python",
   "name": "myenv"
  },
  "language_info": {
   "codemirror_mode": {
    "name": "ipython",
    "version": 3
   },
   "file_extension": ".py",
   "mimetype": "text/x-python",
   "name": "python",
   "nbconvert_exporter": "python",
   "pygments_lexer": "ipython3",
   "version": "3.11.2"
  }
 },
 "nbformat": 4,
 "nbformat_minor": 5
}
